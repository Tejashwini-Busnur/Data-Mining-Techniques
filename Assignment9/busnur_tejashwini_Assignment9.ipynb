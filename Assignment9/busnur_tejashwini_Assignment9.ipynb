{
 "cells": [
  {
   "cell_type": "markdown",
   "metadata": {},
   "source": [
    "# Assignment 9"
   ]
  },
  {
   "cell_type": "code",
   "execution_count": 70,
   "metadata": {},
   "outputs": [],
   "source": [
    "#Load and return the breast cancer wisconsin dataset\n",
    "from sklearn.datasets import load_breast_cancer\n",
    "data = load_breast_cancer()\n",
    "data.target[[10, 50, 85]]\n",
    "X = data.data\n",
    "y = data.target"
   ]
  },
  {
   "cell_type": "markdown",
   "metadata": {},
   "source": [
    "<h4>Split the dataset into training set and test set (80, 20)</h4>"
   ]
  },
  {
   "cell_type": "code",
   "execution_count": 71,
   "metadata": {},
   "outputs": [
    {
     "name": "stdout",
     "output_type": "stream",
     "text": [
      "(455, 30)\n",
      "(114, 30)\n",
      "(455,)\n",
      "(114,)\n"
     ]
    }
   ],
   "source": [
    "from sklearn.model_selection import train_test_split\n",
    "X_train, X_test, Y_train, Y_test = train_test_split(X, y, test_size = 0.2)\n",
    "print(X_train.shape)\n",
    "print(X_test.shape)\n",
    "print(Y_train.shape)\n",
    "print(Y_test.shape)"
   ]
  },
  {
   "cell_type": "markdown",
   "metadata": {},
   "source": [
    "<h4>Using scikit-learn’s DecisionTreeClassifier, train a supervised learning model that can\n",
    "be used to generate predictions for your data.</h4>"
   ]
  },
  {
   "cell_type": "code",
   "execution_count": 72,
   "metadata": {},
   "outputs": [],
   "source": [
    "#model_1\n",
    "from sklearn.tree import DecisionTreeClassifier\n",
    "from sklearn import metrics\n",
    "clf = DecisionTreeClassifier()\n",
    "clf = clf.fit(X_train,Y_train)\n",
    "Y_predicted = clf.predict(X_test)"
   ]
  },
  {
   "cell_type": "markdown",
   "metadata": {},
   "source": [
    "<h4>Report on the six evaluation metrics listed in objective for both the models, and compare their results.</h4>"
   ]
  },
  {
   "cell_type": "code",
   "execution_count": 73,
   "metadata": {},
   "outputs": [
    {
     "name": "stdout",
     "output_type": "stream",
     "text": [
      "1.Accuracy of model_1 is  0.9385964912280702\n"
     ]
    }
   ],
   "source": [
    "#1. The accuracy of your model on the test data\n",
    "print(\"1.Accuracy of model_1 is \",metrics.accuracy_score(Y_test, Y_predicted))"
   ]
  },
  {
   "cell_type": "code",
   "execution_count": 74,
   "metadata": {},
   "outputs": [
    {
     "name": "stdout",
     "output_type": "stream",
     "text": [
      "2a.Precision of model_1 is  0.935064935064935\n",
      "2b.Recall Score model_1 is 0.972972972972973\n"
     ]
    }
   ],
   "source": [
    "#2. The precision and recall values\n",
    "print(\"2a.Precision of model_1 is \", metrics.precision_score(Y_test, Y_predicted))\n",
    "print(\"2b.Recall Score model_1 is\", metrics.recall_score(Y_test, Y_predicted))"
   ]
  },
  {
   "cell_type": "code",
   "execution_count": 75,
   "metadata": {},
   "outputs": [
    {
     "name": "stdout",
     "output_type": "stream",
     "text": [
      "3.Classification Report for model_1\n",
      "              precision    recall  f1-score   support\n",
      "\n",
      "   malignant       0.95      0.88      0.91        40\n",
      "      benign       0.94      0.97      0.95        74\n",
      "\n",
      "    accuracy                           0.94       114\n",
      "   macro avg       0.94      0.92      0.93       114\n",
      "weighted avg       0.94      0.94      0.94       114\n",
      "\n"
     ]
    }
   ],
   "source": [
    "# 3. A classification report (scikit-learn has a function that can create this for you)\n",
    "print(\"3.Classification Report for model_1\")\n",
    "print(metrics.classification_report(Y_test, Y_predicted, target_names=data.target_names))"
   ]
  },
  {
   "cell_type": "code",
   "execution_count": 76,
   "metadata": {},
   "outputs": [
    {
     "name": "stdout",
     "output_type": "stream",
     "text": [
      "4.confusion matrix for model_1\n",
      "[[35  5]\n",
      " [ 2 72]]\n"
     ]
    }
   ],
   "source": [
    "#4. The confusion matrix for this experiment\n",
    "print(\"4.confusion matrix for model_1\")\n",
    "from sklearn.metrics import confusion_matrix\n",
    "print(confusion_matrix(Y_test, Y_predicted))"
   ]
  },
  {
   "cell_type": "code",
   "execution_count": 77,
   "metadata": {},
   "outputs": [
    {
     "name": "stdout",
     "output_type": "stream",
     "text": [
      "5.ROC curve for model_1\n"
     ]
    },
    {
     "data": {
      "image/png": "[encoded data removed]",
      "text/plain": [
       "<Figure size 432x288 with 1 Axes>"
      ]
     },
     "metadata": {
      "needs_background": "light"
     },
     "output_type": "display_data"
    }
   ],
   "source": [
    "# 5. An ROC curve\n",
    "print(\"5.ROC curve for model_1\")\n",
    "import matplotlib.pyplot as plt\n",
    "metrics.plot_roc_curve(clf, X_test, Y_test) \n",
    "plt.show()"
   ]
  },
  {
   "cell_type": "code",
   "execution_count": 78,
   "metadata": {},
   "outputs": [
    {
     "name": "stdout",
     "output_type": "stream",
     "text": [
      "6.Precision and Recall curve for model_1\n"
     ]
    },
    {
     "data": {
      "image/png": "[encoded data removed]",
      "text/plain": [
       "<Figure size 432x288 with 1 Axes>"
      ]
     },
     "metadata": {
      "needs_background": "light"
     },
     "output_type": "display_data"
    }
   ],
   "source": [
    "#6. A Precision/Recall curve\n",
    "import matplotlib.pyplot as plt\n",
    "print(\"6.Precision and Recall curve for model_1\")\n",
    "metrics.plot_precision_recall_curve(clf, X_test, Y_test)\n",
    "plt.show()"
   ]
  },
  {
   "cell_type": "code",
   "execution_count": 79,
   "metadata": {},
   "outputs": [],
   "source": [
    "#model_2 with max_depth = 1\n",
    "from sklearn.tree import DecisionTreeClassifier\n",
    "from sklearn import metrics\n",
    "clf_with_model_2 = DecisionTreeClassifier(max_depth = 1)\n",
    "clf_with_model_2 = clf_with_model_2.fit(X_train,Y_train)\n",
    "Y_predicted_model2 = clf_with_model_2.predict(X_test)"
   ]
  },
  {
   "cell_type": "code",
   "execution_count": 80,
   "metadata": {},
   "outputs": [
    {
     "name": "stdout",
     "output_type": "stream",
     "text": [
      "1.Accuracy of model_2 is  0.9210526315789473\n"
     ]
    }
   ],
   "source": [
    "#1. The accuracy of your model on the test data\n",
    "print(\"1.Accuracy of model_2 is \",metrics.accuracy_score(Y_test, Y_predicted_model2))"
   ]
  },
  {
   "cell_type": "code",
   "execution_count": 81,
   "metadata": {},
   "outputs": [
    {
     "name": "stdout",
     "output_type": "stream",
     "text": [
      "2a.Precision of model_2 is  0.9113924050632911\n",
      "2b.Recall Score model_2 is 0.972972972972973\n"
     ]
    }
   ],
   "source": [
    "#2. The precision and recall values\n",
    "print(\"2a.Precision of model_2 is \", metrics.precision_score(Y_test, Y_predicted_model2))\n",
    "print(\"2b.Recall Score model_2 is\", metrics.recall_score(Y_test, Y_predicted_model2))\n"
   ]
  },
  {
   "cell_type": "code",
   "execution_count": 82,
   "metadata": {},
   "outputs": [
    {
     "name": "stdout",
     "output_type": "stream",
     "text": [
      "3.Classification Report for model_2\n",
      "              precision    recall  f1-score   support\n",
      "\n",
      "   malignant       0.94      0.82      0.88        40\n",
      "      benign       0.91      0.97      0.94        74\n",
      "\n",
      "    accuracy                           0.92       114\n",
      "   macro avg       0.93      0.90      0.91       114\n",
      "weighted avg       0.92      0.92      0.92       114\n",
      "\n"
     ]
    }
   ],
   "source": [
    "# 3. A classification report (scikit-learn has a function that can create this for you)\n",
    "print(\"3.Classification Report for model_2\")\n",
    "print(metrics.classification_report(Y_test, Y_predicted_model2, target_names=data.target_names))\n"
   ]
  },
  {
   "cell_type": "code",
   "execution_count": 83,
   "metadata": {},
   "outputs": [
    {
     "name": "stdout",
     "output_type": "stream",
     "text": [
      "4.confusion matrix for model_2\n",
      "[[33  7]\n",
      " [ 2 72]]\n"
     ]
    }
   ],
   "source": [
    "#4. The confusion matrix for this experiment\n",
    "print(\"4.confusion matrix for model_2\")\n",
    "from sklearn.metrics import confusion_matrix\n",
    "print(confusion_matrix(Y_test, Y_predicted_model2))\n"
   ]
  },
  {
   "cell_type": "code",
   "execution_count": 84,
   "metadata": {},
   "outputs": [
    {
     "name": "stdout",
     "output_type": "stream",
     "text": [
      "5.ROC curve for model_2\n"
     ]
    },
    {
     "data": {
      "image/png": "[encoded data removed]",
      "text/plain": [
       "<Figure size 432x288 with 1 Axes>"
      ]
     },
     "metadata": {
      "needs_background": "light"
     },
     "output_type": "display_data"
    }
   ],
   "source": [
    "# 5. An ROC curve\n",
    "print(\"5.ROC curve for model_2\")\n",
    "import matplotlib.pyplot as plt\n",
    "metrics.plot_roc_curve(clf_with_model_2, X_test, Y_test) \n",
    "plt.show()\n"
   ]
  },
  {
   "cell_type": "code",
   "execution_count": 85,
   "metadata": {},
   "outputs": [
    {
     "name": "stdout",
     "output_type": "stream",
     "text": [
      "6.Precision and Recall curve for model_2\n"
     ]
    },
    {
     "data": {
      "image/png": "[encoded data removed]",
      "text/plain": [
       "<Figure size 432x288 with 1 Axes>"
      ]
     },
     "metadata": {
      "needs_background": "light"
     },
     "output_type": "display_data"
    }
   ],
   "source": [
    "#6. A Precision/Recall curve\n",
    "print(\"6.Precision and Recall curve for model_2\")\n",
    "metrics.plot_precision_recall_curve(clf_with_model_2, X_test, Y_test)\n",
    "plt.show()"
   ]
  },
  {
   "cell_type": "markdown",
   "metadata": {},
   "source": [
    "<h4>comparing results of model_1 and model_2</h4>\n"
   ]
  },
  {
   "cell_type": "markdown",
   "metadata": {},
   "source": [
    "-->When the max_depth of the model is set to 1, accuracy decreased. The amount of data available at depth 1 would be lesser and that impacts the accuracy of the model.<br>\n",
    "-->Precision refers to the percentage of the results which are relevant and recall refers to the percentage of total relevant results correctly classified by the model.Here, in model_2 precision decreased by a large margin and less change in recall value.<br>\n",
    "-->The classification report sums up precision, recall and f1-score. F1 score is the weighted average of Precision and Recall. Therefore, this score takes both false positives and false negatives into account.We can see that for both the classes \"malignant\" and \"benign\" the f1-score got reduced with model_2.<br>\n",
    "-->confusion matrix is a summary of prediction results on a classification problem.The number of correct and incorrect predictions are summarized with count values.From model_1 to model_2 true positivies & false negativies drecreased and false positives & true negatives increased.<br>\n",
    "-->ROC curve (receiver operating characteristic curve) shows the performance of a classification model.The false positive is marked at a higher level for model_2.<br>"
   ]
  },
  {
   "cell_type": "code",
   "execution_count": null,
   "metadata": {},
   "outputs": [],
   "source": []
  }
 ],
 "metadata": {
  "kernelspec": {
   "display_name": "Python 3",
   "language": "python",
   "name": "python3"
  },
  "language_info": {
   "codemirror_mode": {
    "name": "ipython",
    "version": 3
   },
   "file_extension": ".py",
   "mimetype": "text/x-python",
   "name": "python",
   "nbconvert_exporter": "python",
   "pygments_lexer": "ipython3",
   "version": "3.8.3"
  }
 },
 "nbformat": 4,
 "nbformat_minor": 4
}
