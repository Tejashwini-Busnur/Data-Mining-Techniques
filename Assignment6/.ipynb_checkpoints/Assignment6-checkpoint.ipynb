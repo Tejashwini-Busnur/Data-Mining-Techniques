{
 "cells": [
  {
   "cell_type": "markdown",
   "metadata": {},
   "source": [
    "# Assignment 6"
   ]
  },
  {
   "cell_type": "code",
   "execution_count": 50,
   "metadata": {},
   "outputs": [],
   "source": [
    "import numpy as np\n",
    "import matplotlib.pyplot as plt \n",
    "import pandas as pd  \n",
    "\n",
    "#load the data\n",
    "from sklearn.datasets import load_boston\n",
    "X, y = load_boston(return_X_y=True)"
   ]
  },
  {
   "cell_type": "code",
   "execution_count": 51,
   "metadata": {},
   "outputs": [
    {
     "data": {
      "text/html": [
       "<div>\n",
       "<style scoped>\n",
       "    .dataframe tbody tr th:only-of-type {\n",
       "        vertical-align: middle;\n",
       "    }\n",
       "\n",
       "    .dataframe tbody tr th {\n",
       "        vertical-align: top;\n",
       "    }\n",
       "\n",
       "    .dataframe thead th {\n",
       "        text-align: right;\n",
       "    }\n",
       "</style>\n",
       "<table border=\"1\" class=\"dataframe\">\n",
       "  <thead>\n",
       "    <tr style=\"text-align: right;\">\n",
       "      <th></th>\n",
       "      <th>CRIM</th>\n",
       "      <th>ZN</th>\n",
       "      <th>INDUS</th>\n",
       "      <th>CHAS</th>\n",
       "      <th>NOX</th>\n",
       "      <th>RM</th>\n",
       "      <th>AGE</th>\n",
       "      <th>DIS</th>\n",
       "      <th>RAD</th>\n",
       "      <th>TAX</th>\n",
       "      <th>PTRATIO</th>\n",
       "      <th>B</th>\n",
       "      <th>LSTAT</th>\n",
       "    </tr>\n",
       "  </thead>\n",
       "  <tbody>\n",
       "    <tr>\n",
       "      <th>0</th>\n",
       "      <td>0.00632</td>\n",
       "      <td>18.0</td>\n",
       "      <td>2.31</td>\n",
       "      <td>0.0</td>\n",
       "      <td>0.538</td>\n",
       "      <td>6.575</td>\n",
       "      <td>65.2</td>\n",
       "      <td>4.0900</td>\n",
       "      <td>1.0</td>\n",
       "      <td>296.0</td>\n",
       "      <td>15.3</td>\n",
       "      <td>396.90</td>\n",
       "      <td>4.98</td>\n",
       "    </tr>\n",
       "    <tr>\n",
       "      <th>1</th>\n",
       "      <td>0.02731</td>\n",
       "      <td>0.0</td>\n",
       "      <td>7.07</td>\n",
       "      <td>0.0</td>\n",
       "      <td>0.469</td>\n",
       "      <td>6.421</td>\n",
       "      <td>78.9</td>\n",
       "      <td>4.9671</td>\n",
       "      <td>2.0</td>\n",
       "      <td>242.0</td>\n",
       "      <td>17.8</td>\n",
       "      <td>396.90</td>\n",
       "      <td>9.14</td>\n",
       "    </tr>\n",
       "    <tr>\n",
       "      <th>2</th>\n",
       "      <td>0.02729</td>\n",
       "      <td>0.0</td>\n",
       "      <td>7.07</td>\n",
       "      <td>0.0</td>\n",
       "      <td>0.469</td>\n",
       "      <td>7.185</td>\n",
       "      <td>61.1</td>\n",
       "      <td>4.9671</td>\n",
       "      <td>2.0</td>\n",
       "      <td>242.0</td>\n",
       "      <td>17.8</td>\n",
       "      <td>392.83</td>\n",
       "      <td>4.03</td>\n",
       "    </tr>\n",
       "    <tr>\n",
       "      <th>3</th>\n",
       "      <td>0.03237</td>\n",
       "      <td>0.0</td>\n",
       "      <td>2.18</td>\n",
       "      <td>0.0</td>\n",
       "      <td>0.458</td>\n",
       "      <td>6.998</td>\n",
       "      <td>45.8</td>\n",
       "      <td>6.0622</td>\n",
       "      <td>3.0</td>\n",
       "      <td>222.0</td>\n",
       "      <td>18.7</td>\n",
       "      <td>394.63</td>\n",
       "      <td>2.94</td>\n",
       "    </tr>\n",
       "    <tr>\n",
       "      <th>4</th>\n",
       "      <td>0.06905</td>\n",
       "      <td>0.0</td>\n",
       "      <td>2.18</td>\n",
       "      <td>0.0</td>\n",
       "      <td>0.458</td>\n",
       "      <td>7.147</td>\n",
       "      <td>54.2</td>\n",
       "      <td>6.0622</td>\n",
       "      <td>3.0</td>\n",
       "      <td>222.0</td>\n",
       "      <td>18.7</td>\n",
       "      <td>396.90</td>\n",
       "      <td>5.33</td>\n",
       "    </tr>\n",
       "  </tbody>\n",
       "</table>\n",
       "</div>"
      ],
      "text/plain": [
       "      CRIM    ZN  INDUS  CHAS    NOX     RM   AGE     DIS  RAD    TAX  \\\n",
       "0  0.00632  18.0   2.31   0.0  0.538  6.575  65.2  4.0900  1.0  296.0   \n",
       "1  0.02731   0.0   7.07   0.0  0.469  6.421  78.9  4.9671  2.0  242.0   \n",
       "2  0.02729   0.0   7.07   0.0  0.469  7.185  61.1  4.9671  2.0  242.0   \n",
       "3  0.03237   0.0   2.18   0.0  0.458  6.998  45.8  6.0622  3.0  222.0   \n",
       "4  0.06905   0.0   2.18   0.0  0.458  7.147  54.2  6.0622  3.0  222.0   \n",
       "\n",
       "   PTRATIO       B  LSTAT  \n",
       "0     15.3  396.90   4.98  \n",
       "1     17.8  396.90   9.14  \n",
       "2     17.8  392.83   4.03  \n",
       "3     18.7  394.63   2.94  \n",
       "4     18.7  396.90   5.33  "
      ]
     },
     "execution_count": 51,
     "metadata": {},
     "output_type": "execute_result"
    }
   ],
   "source": [
    "boston_dataset = load_boston()\n",
    "boston_df = pd.DataFrame(boston_dataset.data, columns=boston_dataset.feature_names)\n",
    "boston_df.head()"
   ]
  },
  {
   "cell_type": "code",
   "execution_count": 52,
   "metadata": {},
   "outputs": [
    {
     "name": "stdout",
     "output_type": "stream",
     "text": [
      "(404, 13)\n",
      "(102, 13)\n",
      "(404,)\n",
      "(102,)\n"
     ]
    }
   ],
   "source": [
    "#Split the dataset into training and test sets (80, 20).\n",
    "from sklearn.model_selection import train_test_split\n",
    "\n",
    "X_train, X_test, Y_train, Y_test = train_test_split(X, y, test_size = 0.2, random_state=4)\n",
    "print(X_train.shape)\n",
    "print(X_test.shape)\n",
    "print(Y_train.shape)\n",
    "print(Y_test.shape)"
   ]
  },
  {
   "cell_type": "code",
   "execution_count": 53,
   "metadata": {},
   "outputs": [
    {
     "data": {
      "text/plain": [
       "LinearRegression()"
      ]
     },
     "execution_count": 53,
     "metadata": {},
     "output_type": "execute_result"
    }
   ],
   "source": [
    "#2(a) Use all the features (1-13) to fit the linear regression model for feature 14 using the training set.\n",
    "\n",
    "from sklearn.linear_model import LinearRegression\n",
    "from sklearn.metrics import mean_squared_error\n",
    "from sklearn.metrics import r2_score, explained_variance_score\n",
    "\n",
    "#fit the model on the training set and predict with the fitted model on the testing set\n",
    "\n",
    "lin_model = LinearRegression()\n",
    "lin_model.fit(X_train, Y_train)"
   ]
  },
  {
   "cell_type": "code",
   "execution_count": 54,
   "metadata": {},
   "outputs": [
    {
     "name": "stdout",
     "output_type": "stream",
     "text": [
      "coefficients:\n",
      "[-1.15966452e-01  4.71249231e-02  8.25980146e-03  3.23404531e+00\n",
      " -1.66865890e+01  3.88410651e+00 -1.08974442e-02 -1.54129540e+00\n",
      "  2.93208309e-01 -1.34059383e-02 -9.06296429e-01  8.80823439e-03\n",
      " -4.57723846e-01]\n",
      "**********************************************************************\n",
      "mean squared error for the model 25.41958712682191\n",
      "variance score for the model 0.7263451459702503\n"
     ]
    }
   ],
   "source": [
    "# 2(b) Report the coefficients, mean squared error and variance score for the model on the test set\n",
    "print(\"coefficients:\")\n",
    "print(lin_model.coef_)\n",
    "print(\"**********************************************************************\")\n",
    "y_test_predict = lin_model.predict(X_test)\n",
    "mean_squared_error = np.mean(((y_test_predict) - Y_test) ** 2)\n",
    "variance_score = lin_model.score(X_test , Y_test)\n",
    "\n",
    "print (f\"mean squared error for the model {mean_squared_error}\")\n",
    "print(f\"variance score for the model {variance_score}\")"
   ]
  },
  {
   "cell_type": "markdown",
   "metadata": {},
   "source": [
    "<h4>3(a) Use each feature alone - to fit a linear regression model on the training set.</h4>"
   ]
  },
  {
   "cell_type": "code",
   "execution_count": null,
   "metadata": {},
   "outputs": [],
   "source": [
    "def linear_regression_results(data, feature, target, random_state=4, plot_graph=False):\n",
    "    df_X = pd.DataFrame(np.c_[data[feature]], columns = [feature])\n",
    "    df_Y = target\n",
    "    X_train, X_test, Y_train, Y_test = train_test_split(df_X, df_Y, test_size=0.2, random_state=random_state)\n",
    "    # single feature alone - to fit a linear regression model\n",
    "    lin_model = LinearRegression()\n",
    "    lin_model.fit(X_train, Y_train)\n",
    "    y_test_predict = lin_model.predict(X_test)    \n",
    "    mean_square_error = np.mean((y_test_predict - Y_test ) ** 2)\n",
    "    variance_score = lin_model.score(X_test, Y_test)\n",
    "    #plots of the linear regression models generated on each feature\n",
    "    while plot_graph:\n",
    "        plt.scatter(X_test, Y_test,  color=\"yellow\")\n",
    "        plt.scatter(X_train, Y_train, color=\"blue\")\n",
    "        plt.plot(X_test,y_test_predict, color=\"black\")\n",
    "        plt.title(feature)\n",
    "        plt.show()\n",
    "        print(f\"Coefficient- {lin_model.coef_}\")\n",
    "        print(f\"Mean square error - {mean_square_error}\")\n",
    "        print(f\"Variance score - {variance_score}\\n\")\n",
    "        print(\"**************************************************************\")\n",
    "    return mean_square_error, variance_score"
   ]
  },
  {
   "cell_type": "code",
   "execution_count": null,
   "metadata": {},
   "outputs": [],
   "source": [
    "# report the thirteen plots of the linear regression models generated on each feature, Coefficient, Mean square error and Variance score.\n",
    "for feature in boston_dataset.feature_names:\n",
    "    linear_regression_results(data=boston_df, feature=feature, target=boston_dataset.target, plot_graph=True)"
   ]
  },
  {
   "cell_type": "code",
   "execution_count": null,
   "metadata": {},
   "outputs": [],
   "source": [
    "# import matplotlib.pyplot as plt\n",
    "# ax = fig.add_axes([0,0,1,1])\n",
    "# fig, ax = plt.subplots(figsize=(14,8))\n",
    "# features = [\"all 13 features\",\"CRIM\",\"ZN\", \"INDUS\", \"CHAS\",\"NOX\",\"RM\",\"AGE\",\"DIS\",\"RAD\",\"TAX\",\"PTRATIO\",\"B\",\"LSTAT\"]\n",
    "# mean_score = [26, 78, 78, 72,88,75,48,78,85,79,73,67,80,41]\n",
    "# ax.bar(features,mean_score)\n",
    "# plt.show()"
   ]
  },
  {
   "cell_type": "markdown",
   "metadata": {},
   "source": [
    "<h4>Step 4(a) & 4(b)</h4>"
   ]
  },
  {
   "cell_type": "code",
   "execution_count": 185,
   "metadata": {},
   "outputs": [
    {
     "data": {
      "text/html": [
       "<div>\n",
       "<style scoped>\n",
       "    .dataframe tbody tr th:only-of-type {\n",
       "        vertical-align: middle;\n",
       "    }\n",
       "\n",
       "    .dataframe tbody tr th {\n",
       "        vertical-align: top;\n",
       "    }\n",
       "\n",
       "    .dataframe thead th {\n",
       "        text-align: right;\n",
       "    }\n",
       "</style>\n",
       "<table border=\"1\" class=\"dataframe\">\n",
       "  <thead>\n",
       "    <tr style=\"text-align: right;\">\n",
       "      <th></th>\n",
       "      <th>all_13_features</th>\n",
       "      <th>CRIM</th>\n",
       "      <th>ZN</th>\n",
       "      <th>INDUS</th>\n",
       "      <th>CHAS</th>\n",
       "      <th>NOX</th>\n",
       "      <th>RM</th>\n",
       "      <th>AGE</th>\n",
       "      <th>DIS</th>\n",
       "      <th>RAD</th>\n",
       "      <th>TAX</th>\n",
       "      <th>PTRATIO</th>\n",
       "      <th>B</th>\n",
       "      <th>LSTAT</th>\n",
       "    </tr>\n",
       "  </thead>\n",
       "  <tbody>\n",
       "    <tr>\n",
       "      <th>MSE</th>\n",
       "      <td>25.415075</td>\n",
       "      <td>84.853925</td>\n",
       "      <td>76.735791</td>\n",
       "      <td>75.469558</td>\n",
       "      <td>95.214010</td>\n",
       "      <td>76.601587</td>\n",
       "      <td>51.609300</td>\n",
       "      <td>79.394488</td>\n",
       "      <td>88.028086</td>\n",
       "      <td>88.522389</td>\n",
       "      <td>82.952181</td>\n",
       "      <td>71.524871</td>\n",
       "      <td>81.903997</td>\n",
       "      <td>40.130198</td>\n",
       "    </tr>\n",
       "    <tr>\n",
       "      <th>VS</th>\n",
       "      <td>0.708543</td>\n",
       "      <td>0.086504</td>\n",
       "      <td>0.173900</td>\n",
       "      <td>0.187532</td>\n",
       "      <td>-0.025028</td>\n",
       "      <td>0.175345</td>\n",
       "      <td>0.444399</td>\n",
       "      <td>0.145278</td>\n",
       "      <td>0.052333</td>\n",
       "      <td>0.047011</td>\n",
       "      <td>0.106977</td>\n",
       "      <td>0.229998</td>\n",
       "      <td>0.118262</td>\n",
       "      <td>0.567978</td>\n",
       "    </tr>\n",
       "  </tbody>\n",
       "</table>\n",
       "</div>"
      ],
      "text/plain": [
       "     all_13_features       CRIM         ZN      INDUS       CHAS        NOX  \\\n",
       "MSE        25.415075  84.853925  76.735791  75.469558  95.214010  76.601587   \n",
       "VS          0.708543   0.086504   0.173900   0.187532  -0.025028   0.175345   \n",
       "\n",
       "            RM        AGE        DIS        RAD        TAX    PTRATIO  \\\n",
       "MSE  51.609300  79.394488  88.028086  88.522389  82.952181  71.524871   \n",
       "VS    0.444399   0.145278   0.052333   0.047011   0.106977   0.229998   \n",
       "\n",
       "             B      LSTAT  \n",
       "MSE  81.903997  40.130198  \n",
       "VS    0.118262   0.567978  "
      ]
     },
     "execution_count": 185,
     "metadata": {},
     "output_type": "execute_result"
    }
   ],
   "source": [
    "from collections import defaultdict\n",
    "metrics = defaultdict(list)\n",
    "# We iterate 10 times to collect metrics about each model for each split generated. \n",
    "for i in range(11):\n",
    "    # We split data with varying random states. \n",
    "    X_train, X_test, Y_train, Y_test = train_test_split(X, y, test_size = 0.2, random_state=i)\n",
    "    \n",
    "    # Now we do for all 13 features.\n",
    "    lin_model1 = LinearRegression()\n",
    "    lin_model1.fit(X_train, Y_train)\n",
    "    y_test_predict = lin_model1.predict(X_test)\n",
    "    # MSE for all 13 features\n",
    "    mse = np.mean((y_test_predict - Y_test ) ** 2)\n",
    "    # Get the explained variance score \n",
    "    vs = lin_model1.score(X_test, Y_test)\n",
    "    metrics[\"all_13_features\"].append((mse, vs))\n",
    "    \n",
    "    # Now collect mse and vs values for all 13 individual models\n",
    "    for feature in boston_dataset.feature_names:\n",
    "        mse1, vs1 = linear_regression_results(data=boston_df, feature=feature, target=boston_dataset.target, plot_graph=False)\n",
    "        metrics[feature].append((mse1, vs1))\n",
    "\n",
    "# Now we have all the mse, vs values for 13 features and all inidivual features across all 10 iterations. \n",
    "avg_metrics =  {}\n",
    "for key in metrics.keys():\n",
    "    arr = metrics[key]\n",
    "    mse_list, vs_list = [], []\n",
    "    for mse, vs in arr:\n",
    "        mse_list.append(mse)\n",
    "        vs_list.append(vs)\n",
    "    avg_metrics[key] = {'MSE': np.average(mse_list), 'VS': np.average(vs_list)}\n",
    "avg_metrics_df = pd.DataFrame.from_dict(avg_metrics)\n",
    "\n",
    "avg_metrics_df"
   ]
  },
  {
   "cell_type": "code",
   "execution_count": 191,
   "metadata": {},
   "outputs": [],
   "source": [
    "# This is our helper method to plot chart.\n",
    "def plot_chart(features, mean_score):\n",
    "    import matplotlib.pyplot as plt\n",
    "    fig, ax = plt.subplots(figsize=(14,8))\n",
    "    ax = fig.add_axes([0,0,1,1])\n",
    "    features = features\n",
    "    mean_score = mean_score\n",
    "    ax.bar(features,mean_score)\n",
    "    plt.show()\n"
   ]
  },
  {
   "cell_type": "code",
   "execution_count": 192,
   "metadata": {},
   "outputs": [
    {
     "data": {
      "image/png": "[encoded data removed]",
      "text/plain": [
       "<Figure size 1008x576 with 2 Axes>"
      ]
     },
     "metadata": {
      "needs_background": "light"
     },
     "output_type": "display_data"
    }
   ],
   "source": [
    "# Plot Chart for Mean MSE Values\n",
    "plot_chart(avg_metrics_df.columns, list(avg_metrics_df.iloc[0].values))"
   ]
  },
  {
   "cell_type": "code",
   "execution_count": 188,
   "metadata": {},
   "outputs": [
    {
     "data": {
      "image/png": "[encoded data removed]",
      "text/plain": [
       "<Figure size 1008x576 with 2 Axes>"
      ]
     },
     "metadata": {
      "needs_background": "light"
     },
     "output_type": "display_data"
    }
   ],
   "source": [
    "# Plot Chart for Mean VS Values\n",
    "plot_chart(avg_metrics_df.columns, list(avg_metrics_df.iloc[1].values))"
   ]
  },
  {
   "cell_type": "code",
   "execution_count": null,
   "metadata": {},
   "outputs": [],
   "source": []
  }
 ],
 "metadata": {
  "kernelspec": {
   "display_name": "Python 3",
   "language": "python",
   "name": "python3"
  },
  "language_info": {
   "codemirror_mode": {
    "name": "ipython",
    "version": 3
   },
   "file_extension": ".py",
   "mimetype": "text/x-python",
   "name": "python",
   "nbconvert_exporter": "python",
   "pygments_lexer": "ipython3",
   "version": "3.8.3"
  }
 },
 "nbformat": 4,
 "nbformat_minor": 4
}
